{
  "nbformat": 4,
  "nbformat_minor": 0,
  "metadata": {
    "colab": {
      "provenance": []
    },
    "kernelspec": {
      "name": "python3",
      "display_name": "Python 3"
    },
    "language_info": {
      "name": "python"
    }
  },
  "cells": [
    {
      "cell_type": "markdown",
      "source": [
        "1. Write a program that swaps the values of two variables."
      ],
      "metadata": {
        "id": "7hbFFitSNhuc"
      }
    },
    {
      "cell_type": "code",
      "execution_count": null,
      "metadata": {
        "colab": {
          "base_uri": "https://localhost:8080/"
        },
        "id": "wDUCYajqTd5P",
        "outputId": "56eeb27f-51a4-407f-e420-79f27de750f2"
      },
      "outputs": [
        {
          "output_type": "stream",
          "name": "stdout",
          "text": [
            "Before swap: x = 5 y = 10\n",
            "After swap: x = 10 y = 5\n"
          ]
        }
      ],
      "source": [
        "def swap(a, b):\n",
        "    a, b = b, a\n",
        "    return a, b\n",
        "\n",
        "\n",
        "x = 5\n",
        "y = 10\n",
        "print(\"Before swap: x =\", x, \"y =\", y)\n",
        "x, y = swap(x, y)\n",
        "print(\"After swap: x =\", x, \"y =\", y)"
      ]
    },
    {
      "cell_type": "markdown",
      "source": [
        "2. Write a program that calculates the area of a rectangle given its length and width."
      ],
      "metadata": {
        "id": "J-Fh_wcpNehF"
      }
    },
    {
      "cell_type": "code",
      "source": [
        "def calculate_area(length, width):\n",
        "    return length * width\n",
        "\n",
        "\n",
        "length = float(input(\"Enter the length of the rectangle: \"))\n",
        "width = float(input(\"Enter the width of the rectangle: \"))\n",
        "\n",
        "area = calculate_area(length, width)\n",
        "print(\"The area of the rectangle is:\", area)"
      ],
      "metadata": {
        "colab": {
          "base_uri": "https://localhost:8080/"
        },
        "id": "cS3mixlXTgm8",
        "outputId": "a67edf44-b88a-445f-8843-475cfbfe3bcb"
      },
      "execution_count": 1,
      "outputs": [
        {
          "output_type": "stream",
          "name": "stdout",
          "text": [
            "Enter the length of the rectangle: 5\n",
            "Enter the width of the rectangle: 4\n",
            "The area of the rectangle is: 20.0\n"
          ]
        }
      ]
    },
    {
      "cell_type": "markdown",
      "source": [
        "3. Write a program that converts temperature from Fahrenheit to Celsius."
      ],
      "metadata": {
        "id": "7rLgwsvHNvI8"
      }
    },
    {
      "cell_type": "code",
      "source": [
        "def fahrenheit_to_celsius(fahrenheit):\n",
        "    return (fahrenheit - 32) * 5 / 9\n",
        "\n",
        "\n",
        "fahrenheit = float(input(\"Enter temperature in Fahrenheit: \"))\n",
        "celsius = fahrenheit_to_celsius(fahrenheit)\n",
        "print(f\"{fahrenheit} Fahrenheit is equal to {celsius:.2f} Celsius\")"
      ],
      "metadata": {
        "colab": {
          "base_uri": "https://localhost:8080/"
        },
        "id": "ciqkrHE3U6Uj",
        "outputId": "9d126fbf-02ac-466d-8ae1-434566e1d65c"
      },
      "execution_count": 2,
      "outputs": [
        {
          "output_type": "stream",
          "name": "stdout",
          "text": [
            "Enter temperature in Fahrenheit: 25\n",
            "25.0 Fahrenheit is equal to -3.89 Celsius\n"
          ]
        }
      ]
    },
    {
      "cell_type": "markdown",
      "source": [
        "4. Write a program that calculates the volume of a sphere given its radius."
      ],
      "metadata": {
        "id": "xvXESDU9OFgq"
      }
    },
    {
      "cell_type": "code",
      "source": [
        "import math\n",
        "\n",
        "def calculate_volume(radius):\n",
        "    return (4/3) * math.pi * radius**3\n",
        "\n",
        "radius = float(input(\"Enter the radius of the sphere: \"))\n",
        "\n",
        "volume = calculate_volume(radius)\n",
        "print(f\"The volume of the sphere with radius {radius} is: {volume:.2f}\")"
      ],
      "metadata": {
        "colab": {
          "base_uri": "https://localhost:8080/"
        },
        "id": "LSficnCGYY65",
        "outputId": "ab9efa55-282c-41c7-dd16-bcce12ff60d5"
      },
      "execution_count": 3,
      "outputs": [
        {
          "output_type": "stream",
          "name": "stdout",
          "text": [
            "Enter the radius of the sphere: 5\n",
            "The volume of the sphere with radius 5.0 is: 523.60\n"
          ]
        }
      ]
    },
    {
      "cell_type": "markdown",
      "source": [
        "5. Write a program that finds the average of three numbers."
      ],
      "metadata": {
        "id": "4Z5RQ6S2Oa8K"
      }
    },
    {
      "cell_type": "code",
      "source": [
        "\n",
        "def calculate_average(num1, num2, num3):\n",
        "    return (num1 + num2 + num3) / 3\n",
        "\n",
        "\n",
        "num1 = float(input(\"Enter the first number: \"))\n",
        "num2 = float(input(\"Enter the second number: \"))\n",
        "num3 = float(input(\"Enter the third number: \"))\n",
        "\n",
        "average = calculate_average(num1, num2, num3)\n",
        "print(f\"The average of {num1}, {num2}, and {num3} is: {average:.2f}\")"
      ],
      "metadata": {
        "colab": {
          "base_uri": "https://localhost:8080/"
        },
        "id": "I-RHz-dnZP7K",
        "outputId": "b42e7f07-e377-4487-bfb8-1fa34e8b8afa"
      },
      "execution_count": 4,
      "outputs": [
        {
          "output_type": "stream",
          "name": "stdout",
          "text": [
            "Enter the first number: 5\n",
            "Enter the second number: 6\n",
            "Enter the third number: 7\n",
            "The average of 5.0, 6.0, and 7.0 is: 6.00\n"
          ]
        }
      ]
    },
    {
      "cell_type": "markdown",
      "source": [
        "6. Write a program that determines if a number is even or odd."
      ],
      "metadata": {
        "id": "IBMdtiK-Owea"
      }
    },
    {
      "cell_type": "code",
      "source": [
        "def is_even_or_odd(number):\n",
        "    if number % 2 == 0:\n",
        "        return \"even\"\n",
        "    else:\n",
        "        return \"odd\"\n",
        "\n",
        "\n",
        "number = int(input(\"Enter a number: \"))\n",
        "\n",
        "result = is_even_or_odd(number)\n",
        "print(f\"The number {number} is {result}.\")\n"
      ],
      "metadata": {
        "colab": {
          "base_uri": "https://localhost:8080/"
        },
        "id": "c6c6Y3J0ZwEA",
        "outputId": "f416f675-0f29-48e3-ab6c-f838b3078cb7"
      },
      "execution_count": 5,
      "outputs": [
        {
          "output_type": "stream",
          "name": "stdout",
          "text": [
            "Enter a number: 2\n",
            "The number 2 is even.\n"
          ]
        }
      ]
    },
    {
      "cell_type": "markdown",
      "source": [
        "7. Write a program that finds the maximum of three numbers."
      ],
      "metadata": {
        "id": "BjwJeO_nO9ky"
      }
    },
    {
      "cell_type": "code",
      "source": [
        "\n",
        "def find_maximum(num1, num2, num3):\n",
        "    return max(num1, num2, num3)\n",
        "\n",
        "\n",
        "num1 = float(input(\"Enter the first number: \"))\n",
        "num2 = float(input(\"Enter the second number: \"))\n",
        "num3 = float(input(\"Enter the third number: \"))\n",
        "\n",
        "maximum = find_maximum(num1, num2, num3)\n",
        "print(f\"The maximum of {num1}, {num2}, and {num3} is: {maximum}\")"
      ],
      "metadata": {
        "colab": {
          "base_uri": "https://localhost:8080/"
        },
        "id": "s2L0wNpFaoFp",
        "outputId": "bd2e8919-4152-4977-f607-cc8c23403e11"
      },
      "execution_count": 6,
      "outputs": [
        {
          "output_type": "stream",
          "name": "stdout",
          "text": [
            "Enter the first number: 5\n",
            "Enter the second number: 6\n",
            "Enter the third number: 8\n",
            "The maximum of 5.0, 6.0, and 8.0 is: 8.0\n"
          ]
        }
      ]
    },
    {
      "cell_type": "markdown",
      "source": [
        "8. Write a program that determines if a year is a leap year or not."
      ],
      "metadata": {
        "id": "q04NdGt6PMjq"
      }
    },
    {
      "cell_type": "code",
      "source": [
        "def is_leap_year(year):\n",
        "    if (year % 4 == 0 and year % 100 != 0) or (year % 400 == 0):\n",
        "        return True\n",
        "    else:\n",
        "        return False\n",
        "\n",
        "\n",
        "year = int(input(\"Enter a year: \"))\n",
        "\n",
        "if is_leap_year(year):\n",
        "    print(f\"The year {year} is a leap year.\")\n",
        "else:\n",
        "    print(f\"The year {year} is not a leap year.\")"
      ],
      "metadata": {
        "colab": {
          "base_uri": "https://localhost:8080/"
        },
        "id": "xu8snUTjbOtJ",
        "outputId": "c64dd658-2ac9-418b-bc01-03c947ba0fff"
      },
      "execution_count": 7,
      "outputs": [
        {
          "output_type": "stream",
          "name": "stdout",
          "text": [
            "Enter a year: 2024\n",
            "The year 2024 is a leap year.\n"
          ]
        }
      ]
    },
    {
      "cell_type": "markdown",
      "source": [
        "9. Write a program that determines if a number is positive, negative, or zero."
      ],
      "metadata": {
        "id": "gNjjWCDrPo7b"
      }
    },
    {
      "cell_type": "code",
      "source": [
        "def determine_sign(number):\n",
        "    if number > 0:\n",
        "        return \"positive\"\n",
        "    elif number < 0:\n",
        "        return \"negative\"\n",
        "    else:\n",
        "        return \"zero\"\n",
        "\n",
        "\n",
        "number = float(input(\"Enter a number: \"))\n",
        "\n",
        "result = determine_sign(number)\n",
        "print(f\"The number {number} is {result}.\")"
      ],
      "metadata": {
        "colab": {
          "base_uri": "https://localhost:8080/"
        },
        "id": "_fGgqCGObxAe",
        "outputId": "7b445d00-10b7-447f-a0fa-9ef2c2e6dfcb"
      },
      "execution_count": 8,
      "outputs": [
        {
          "output_type": "stream",
          "name": "stdout",
          "text": [
            "Enter a number: 5\n",
            "The number 5.0 is positive.\n"
          ]
        }
      ]
    },
    {
      "cell_type": "markdown",
      "source": [
        "10. Write a program that calculates the grade based on a given percentage."
      ],
      "metadata": {
        "id": "b15oS6Z8Px18"
      }
    },
    {
      "cell_type": "code",
      "source": [
        "\n",
        "def calculate_grade(percentage):\n",
        "    if percentage >= 90:\n",
        "        return \"A\"\n",
        "    elif percentage >= 80:\n",
        "        return \"B\"\n",
        "    elif percentage >= 70:\n",
        "        return \"C\"\n",
        "    elif percentage >= 60:\n",
        "        return \"D\"\n",
        "    else:\n",
        "        return \"F\"\n",
        "\n",
        "\n",
        "percentage = float(input(\"Enter the percentage: \"))\n",
        "\n",
        "grade = calculate_grade(percentage)\n",
        "print(f\"The grade for a percentage of {percentage} is: {grade}\")"
      ],
      "metadata": {
        "colab": {
          "base_uri": "https://localhost:8080/"
        },
        "id": "ITZResMgcIFo",
        "outputId": "7c4f78bb-57cf-46d4-bbb8-2b02af9034e9"
      },
      "execution_count": 9,
      "outputs": [
        {
          "output_type": "stream",
          "name": "stdout",
          "text": [
            "Enter the percentage: 6\n",
            "The grade for a percentage of 6.0 is: F\n"
          ]
        }
      ]
    },
    {
      "cell_type": "markdown",
      "source": [
        "11. Write a program that prints the first `n` natural numbers."
      ],
      "metadata": {
        "id": "Qrf2nR5-P7gx"
      }
    },
    {
      "cell_type": "code",
      "source": [
        "def print_natural_numbers(n):\n",
        "    for i in range(1, n + 1):\n",
        "        print(i, end=' ')\n",
        "    print()\n",
        "\n",
        "\n",
        "n = int(input(\"Enter the value of n: \"))\n",
        "\n",
        "print(f\"The first {n} natural numbers are:\")\n",
        "print_natural_numbers(n)"
      ],
      "metadata": {
        "colab": {
          "base_uri": "https://localhost:8080/"
        },
        "id": "mv_rx-r7c7sX",
        "outputId": "737628b4-f45f-4863-9428-128c90561177"
      },
      "execution_count": 10,
      "outputs": [
        {
          "output_type": "stream",
          "name": "stdout",
          "text": [
            "Enter the value of n: 2\n",
            "The first 2 natural numbers are:\n",
            "1 2 \n"
          ]
        }
      ]
    },
    {
      "cell_type": "markdown",
      "source": [
        "12. Write a program that calculates the factorial of a number."
      ],
      "metadata": {
        "id": "ij3pTvHuQE4q"
      }
    },
    {
      "cell_type": "code",
      "source": [
        "def factorial(n):\n",
        "    if n == 0 or n == 1:\n",
        "        return 1\n",
        "    else:\n",
        "        result = 1\n",
        "        for i in range(2, n + 1):\n",
        "            result *= i\n",
        "        return result\n",
        "\n",
        "\n",
        "number = int(input(\"Enter a number: \"))\n",
        "\n",
        "if number < 0:\n",
        "    print(\"Factorial is not defined for negative numbers.\")\n",
        "else:\n",
        "    fact = factorial(number)\n",
        "    print(f\"The factorial of {number} is: {fact}\")"
      ],
      "metadata": {
        "colab": {
          "base_uri": "https://localhost:8080/"
        },
        "id": "sfbMB3GSdglA",
        "outputId": "5b4a3988-57ef-4af4-fe5c-73791d99dc6c"
      },
      "execution_count": 11,
      "outputs": [
        {
          "output_type": "stream",
          "name": "stdout",
          "text": [
            "Enter a number: 6\n",
            "The factorial of 6 is: 720\n"
          ]
        }
      ]
    },
    {
      "cell_type": "markdown",
      "source": [
        "13. Write a program that generates a Fibonacci sequence of length"
      ],
      "metadata": {
        "id": "h4VVa21cQOo6"
      }
    },
    {
      "cell_type": "code",
      "source": [
        "def generate_fibonacci(n):\n",
        "    if n <= 0:\n",
        "        return []\n",
        "    elif n == 1:\n",
        "        return [0]\n",
        "    elif n == 2:\n",
        "        return [0, 1]\n",
        "\n",
        "    sequence = [0, 1]\n",
        "    for i in range(2, n):\n",
        "        next_number = sequence[-1] + sequence[-2]\n",
        "        sequence.append(next_number)\n",
        "    return sequence\n",
        "\n",
        "\n",
        "n = int(input(\"Enter the length of the Fibonacci sequence: \"))\n",
        "\n",
        "if n < 0:\n",
        "    print(\"The length of the Fibonacci sequence must be a non-negative integer.\")\n",
        "else:\n",
        "    fibonacci_sequence = generate_fibonacci(n)\n",
        "    print(f\"The Fibonacci sequence of length {n} is: {fibonacci_sequence}\")"
      ],
      "metadata": {
        "colab": {
          "base_uri": "https://localhost:8080/"
        },
        "id": "4P4hXf2peMw3",
        "outputId": "72899a9e-a3ff-46df-e059-dd120a8e94b3"
      },
      "execution_count": 12,
      "outputs": [
        {
          "output_type": "stream",
          "name": "stdout",
          "text": [
            "Enter the length of the Fibonacci sequence: 2\n",
            "The Fibonacci sequence of length 2 is: [0, 1]\n"
          ]
        }
      ]
    },
    {
      "cell_type": "markdown",
      "source": [
        "14. Write a program that checks if a given number is prime or not."
      ],
      "metadata": {
        "id": "EY1y0h7RQYxL"
      }
    },
    {
      "cell_type": "code",
      "source": [
        "def is_prime(number):\n",
        "    if number <= 1:\n",
        "        return False\n",
        "    elif number == 2:\n",
        "        return True\n",
        "    elif number % 2 == 0:\n",
        "        return False\n",
        "    else:\n",
        "\n",
        "        for i in range(3, int(number**0.5) + 1, 2):\n",
        "            if number % i == 0:\n",
        "                return False\n",
        "        return True\n",
        "\n",
        "\n",
        "number = int(input(\"Enter a number: \"))\n",
        "\n",
        "if is_prime(number):\n",
        "    print(f\"{number} is a prime number.\")\n",
        "else:\n",
        "    print(f\"{number} is not a prime number.\")\n"
      ],
      "metadata": {
        "colab": {
          "base_uri": "https://localhost:8080/"
        },
        "id": "S-xxe6-mfDwc",
        "outputId": "6b547fb5-2dae-486c-9714-869d86f13219"
      },
      "execution_count": 13,
      "outputs": [
        {
          "output_type": "stream",
          "name": "stdout",
          "text": [
            "Enter a number: 2\n",
            "2 is a prime number.\n"
          ]
        }
      ]
    },
    {
      "cell_type": "markdown",
      "source": [
        "15. Write a program that prints the multiplication table of a given number."
      ],
      "metadata": {
        "id": "yzyui-m1Qk3L"
      }
    },
    {
      "cell_type": "code",
      "source": [
        "def print_multiplication_table(number):\n",
        "    print(f\"Multiplication table of {number}:\")\n",
        "    for i in range(1, 11):\n",
        "        print(f\"{number} * {i} = {number * i}\")\n",
        "\n",
        "\n",
        "number = int(input(\"Enter a number: \"))\n",
        "\n",
        "print_multiplication_table(number)"
      ],
      "metadata": {
        "colab": {
          "base_uri": "https://localhost:8080/"
        },
        "id": "TVBL6-HGgxEN",
        "outputId": "9cd50b41-aa26-4aa6-eb9e-7466fe42c151"
      },
      "execution_count": 14,
      "outputs": [
        {
          "output_type": "stream",
          "name": "stdout",
          "text": [
            "Enter a number: 4\n",
            "Multiplication table of 4:\n",
            "4 * 1 = 4\n",
            "4 * 2 = 8\n",
            "4 * 3 = 12\n",
            "4 * 4 = 16\n",
            "4 * 5 = 20\n",
            "4 * 6 = 24\n",
            "4 * 7 = 28\n",
            "4 * 8 = 32\n",
            "4 * 9 = 36\n",
            "4 * 10 = 40\n"
          ]
        }
      ]
    },
    {
      "cell_type": "markdown",
      "source": [
        "16. Write a program that finds the sum of all even numbers between 1 and `n`."
      ],
      "metadata": {
        "id": "DWlM51-HQtZ1"
      }
    },
    {
      "cell_type": "code",
      "source": [
        "def sum_of_evens(n):\n",
        "    sum_even = 0\n",
        "    for i in range(2, n + 1, 2):\n",
        "        sum_even += i\n",
        "    return sum_even\n",
        "\n",
        "\n",
        "n = int(input(\"Enter a number: \"))\n",
        "\n",
        "if n < 2:\n",
        "    print(\"Please enter a number greater than or equal to 2.\")\n",
        "else:\n",
        "    result = sum_of_evens(n)\n",
        "    print(f\"The sum of all even numbers between 1 and {n} is: {result}\")\n"
      ],
      "metadata": {
        "colab": {
          "base_uri": "https://localhost:8080/"
        },
        "id": "BX5VwyZyhfAf",
        "outputId": "90e73f2f-1dcc-4a4f-b915-4b336fa77a05"
      },
      "execution_count": 15,
      "outputs": [
        {
          "output_type": "stream",
          "name": "stdout",
          "text": [
            "Enter a number: 5\n",
            "The sum of all even numbers between 1 and 5 is: 6\n"
          ]
        }
      ]
    },
    {
      "cell_type": "markdown",
      "source": [
        "17. Write a program that reverses a given number."
      ],
      "metadata": {
        "id": "ZDp3Bo6TRFP6"
      }
    },
    {
      "cell_type": "code",
      "source": [
        "def reverse_number(number):\n",
        "    reversed_num = 0\n",
        "    while number != 0:\n",
        "        digit = number % 10\n",
        "        reversed_num = (reversed_num * 10) + digit\n",
        "        number //= 10\n",
        "    return reversed_num\n",
        "\n",
        "\n",
        "number = int(input(\"Enter a number: \"))\n",
        "\n",
        "reversed_number = reverse_number(number)\n",
        "print(f\"The reverse of {number} is: {reversed_number}\")"
      ],
      "metadata": {
        "colab": {
          "base_uri": "https://localhost:8080/"
        },
        "id": "aNU_08h4htzW",
        "outputId": "2aaed6aa-212e-4c18-8ab1-ac5a90e2e151"
      },
      "execution_count": 16,
      "outputs": [
        {
          "output_type": "stream",
          "name": "stdout",
          "text": [
            "Enter a number: 5\n",
            "The reverse of 5 is: 5\n"
          ]
        }
      ]
    },
    {
      "cell_type": "markdown",
      "source": [
        "18. Write a program that checks if a given string, is a palindrome."
      ],
      "metadata": {
        "id": "FipNceCkRPzy"
      }
    },
    {
      "cell_type": "code",
      "source": [
        "def is_palindrome(s):\n",
        "\n",
        "    s = s.replace(\" \", \"\").lower()\n",
        "\n",
        "    return s == s[::-1]\n",
        "\n",
        "\n",
        "string = input(\"Enter a string: \")\n",
        "\n",
        "if is_palindrome(string):\n",
        "    print(f\"{string} is a palindrome.\")\n",
        "else:\n",
        "    print(f\"{string} is not a palindrome.\")"
      ],
      "metadata": {
        "colab": {
          "base_uri": "https://localhost:8080/"
        },
        "id": "rZgkWijmiXOU",
        "outputId": "e3ad228b-a4af-433f-c6ee-fcf3351c05e8"
      },
      "execution_count": 19,
      "outputs": [
        {
          "output_type": "stream",
          "name": "stdout",
          "text": [
            "Enter a string: mam\n",
            "mam is a palindrome.\n"
          ]
        }
      ]
    },
    {
      "cell_type": "markdown",
      "source": [
        "19. Write a program that generates a random number and allows the user to guess it."
      ],
      "metadata": {
        "id": "nWq4qjv-SoHb"
      }
    },
    {
      "cell_type": "code",
      "source": [
        "import random\n",
        "\n",
        "def guess_the_number():\n",
        "\n",
        "    number_to_guess = random.randint(1, 100)\n",
        "\n",
        "    print(\"Welcome to the Number Guessing Game!\")\n",
        "    print(\"I have generated a number between 1 and 100. Can you guess what it is?\")\n",
        "\n",
        "    while True:\n",
        "\n",
        "        try:\n",
        "            user_guess = int(input(\"Enter your guess: \"))\n",
        "\n",
        "\n",
        "            if user_guess < number_to_guess:\n",
        "                print(\"Too low! Try again.\")\n",
        "            elif user_guess > number_to_guess:\n",
        "                print(\"Too high! Try again.\")\n",
        "            else:\n",
        "                print(\"Congratulations! You guessed the correct number.\")\n",
        "                break\n",
        "        except ValueError:\n",
        "            print(\"Please enter a valid integer.\")\n",
        "\n",
        "\n",
        "guess_the_number()"
      ],
      "metadata": {
        "colab": {
          "base_uri": "https://localhost:8080/"
        },
        "id": "uHr8rPbcixCl",
        "outputId": "3c5ec2b4-79d9-4d35-f604-fbb382921ebb"
      },
      "execution_count": 24,
      "outputs": [
        {
          "output_type": "stream",
          "name": "stdout",
          "text": [
            "Welcome to the Number Guessing Game!\n",
            "I have generated a number between 1 and 100. Can you guess what it is?\n",
            "Enter your guess: 20\n",
            "Too high! Try again.\n",
            "Enter your guess: 10\n",
            "Congratulations! You guessed the correct number.\n"
          ]
        }
      ]
    },
    {
      "cell_type": "markdown",
      "source": [
        "20. Write a program that finds the greatest common divisor (GCD) of two numbers."
      ],
      "metadata": {
        "id": "C2vnb4MsTkhf"
      }
    },
    {
      "cell_type": "code",
      "source": [
        "def gcd(a, b):\n",
        "    while b != 0:\n",
        "        a, b = b, a % b\n",
        "    return a\n",
        "\n",
        "num1 = int(input(\"Enter the first number: \"))\n",
        "num2 = int(input(\"Enter the second number: \"))\n",
        "\n",
        "result = gcd(num1, num2)\n",
        "print(f\"The GCD of {num1} and {num2} is: {result}\")"
      ],
      "metadata": {
        "colab": {
          "base_uri": "https://localhost:8080/"
        },
        "id": "uGI8qVMtkZfc",
        "outputId": "f3f71fe7-f419-4ac7-dee2-531652c014b3"
      },
      "execution_count": 22,
      "outputs": [
        {
          "output_type": "stream",
          "name": "stdout",
          "text": [
            "Enter the first number: 2\n",
            "Enter the second number: 3\n",
            "The GCD of 2 and 3 is: 1\n"
          ]
        }
      ]
    }
  ]
}